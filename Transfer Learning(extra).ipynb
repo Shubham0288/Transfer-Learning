{
 "cells": [
  {
   "cell_type": "code",
   "execution_count": 1,
   "id": "01716d70",
   "metadata": {},
   "outputs": [],
   "source": [
    "# sentiment analysis using pre trained models (+ve or -ve)\n",
    "# vader , text blob --> third party library"
   ]
  },
  {
   "cell_type": "code",
   "execution_count": 3,
   "id": "dbb564e9",
   "metadata": {},
   "outputs": [],
   "source": [
    "import nltk\n",
    "import nltk\n",
    "from nltk.sentiment.vader import SentimentIntensityAnalyzer"
   ]
  },
  {
   "cell_type": "code",
   "execution_count": 4,
   "id": "428ed9b8",
   "metadata": {},
   "outputs": [
    {
     "name": "stderr",
     "output_type": "stream",
     "text": [
      "[nltk_data] Downloading package vader_lexicon to\n",
      "[nltk_data]     C:\\Users\\shubh\\AppData\\Roaming\\nltk_data...\n",
      "[nltk_data]   Package vader_lexicon is already up-to-date!\n"
     ]
    },
    {
     "data": {
      "text/plain": [
       "True"
      ]
     },
     "execution_count": 4,
     "metadata": {},
     "output_type": "execute_result"
    }
   ],
   "source": [
    "nltk.download('vader_lexicon')"
   ]
  },
  {
   "cell_type": "code",
   "execution_count": 5,
   "id": "5c3d997f",
   "metadata": {},
   "outputs": [],
   "source": [
    "sent = SentimentIntensityAnalyzer()"
   ]
  },
  {
   "cell_type": "code",
   "execution_count": 6,
   "id": "d0b7776b",
   "metadata": {},
   "outputs": [
    {
     "data": {
      "text/plain": [
       "{'neg': 0.0, 'neu': 0.68, 'pos': 0.32, 'compound': 0.5106}"
      ]
     },
     "execution_count": 6,
     "metadata": {},
     "output_type": "execute_result"
    }
   ],
   "source": [
    "sent.polarity_scores('Food served was vary tasty, i enjoyed eating it')"
   ]
  },
  {
   "cell_type": "code",
   "execution_count": 7,
   "id": "66d8a0fe",
   "metadata": {},
   "outputs": [
    {
     "data": {
      "text/plain": [
       "{'neg': 0.368, 'neu': 0.632, 'pos': 0.0, 'compound': -0.5423}"
      ]
     },
     "execution_count": 7,
     "metadata": {},
     "output_type": "execute_result"
    }
   ],
   "source": [
    "sent.polarity_scores('Journey was horrible and flight was late ')"
   ]
  },
  {
   "cell_type": "code",
   "execution_count": 8,
   "id": "72c8eb27",
   "metadata": {},
   "outputs": [
    {
     "data": {
      "text/plain": [
       "{'neg': 0.406, 'neu': 0.427, 'pos': 0.167, 'compound': -0.5859}"
      ]
     },
     "execution_count": 8,
     "metadata": {},
     "output_type": "execute_result"
    }
   ],
   "source": [
    "sent.polarity_scores('food was good but loaction is bad')"
   ]
  },
  {
   "cell_type": "code",
   "execution_count": 9,
   "id": "631f58f6",
   "metadata": {},
   "outputs": [
    {
     "data": {
      "text/plain": [
       "{'neg': 0.0, 'neu': 1.0, 'pos': 0.0, 'compound': 0.0}"
      ]
     },
     "execution_count": 9,
     "metadata": {},
     "output_type": "execute_result"
    }
   ],
   "source": [
    "sent.polarity_scores('today is monday')"
   ]
  },
  {
   "cell_type": "code",
   "execution_count": 10,
   "id": "8bbed2ac",
   "metadata": {},
   "outputs": [],
   "source": [
    "import pandas as pd\n",
    "import numpy as np"
   ]
  },
  {
   "cell_type": "code",
   "execution_count": 11,
   "id": "5d43c70d",
   "metadata": {},
   "outputs": [],
   "source": [
    "td=pd.read_csv(\"D:\\Imarticus Learning\\DATASETS\\Trip_advisor_review.csv\")"
   ]
  },
  {
   "cell_type": "code",
   "execution_count": 12,
   "id": "75e8d032",
   "metadata": {},
   "outputs": [
    {
     "data": {
      "text/html": [
       "<div>\n",
       "<style scoped>\n",
       "    .dataframe tbody tr th:only-of-type {\n",
       "        vertical-align: middle;\n",
       "    }\n",
       "\n",
       "    .dataframe tbody tr th {\n",
       "        vertical-align: top;\n",
       "    }\n",
       "\n",
       "    .dataframe thead th {\n",
       "        text-align: right;\n",
       "    }\n",
       "</style>\n",
       "<table border=\"1\" class=\"dataframe\">\n",
       "  <thead>\n",
       "    <tr style=\"text-align: right;\">\n",
       "      <th></th>\n",
       "      <th>Review</th>\n",
       "      <th>Rating</th>\n",
       "    </tr>\n",
       "  </thead>\n",
       "  <tbody>\n",
       "    <tr>\n",
       "      <th>0</th>\n",
       "      <td>nice hotel expensive parking got good deal sta...</td>\n",
       "      <td>4</td>\n",
       "    </tr>\n",
       "    <tr>\n",
       "      <th>1</th>\n",
       "      <td>ok nothing special charge diamond member hilto...</td>\n",
       "      <td>2</td>\n",
       "    </tr>\n",
       "    <tr>\n",
       "      <th>2</th>\n",
       "      <td>nice rooms not 4* experience hotel monaco seat...</td>\n",
       "      <td>3</td>\n",
       "    </tr>\n",
       "    <tr>\n",
       "      <th>3</th>\n",
       "      <td>unique, great stay, wonderful time hotel monac...</td>\n",
       "      <td>5</td>\n",
       "    </tr>\n",
       "    <tr>\n",
       "      <th>4</th>\n",
       "      <td>great stay great stay, went seahawk game aweso...</td>\n",
       "      <td>5</td>\n",
       "    </tr>\n",
       "  </tbody>\n",
       "</table>\n",
       "</div>"
      ],
      "text/plain": [
       "                                              Review  Rating\n",
       "0  nice hotel expensive parking got good deal sta...       4\n",
       "1  ok nothing special charge diamond member hilto...       2\n",
       "2  nice rooms not 4* experience hotel monaco seat...       3\n",
       "3  unique, great stay, wonderful time hotel monac...       5\n",
       "4  great stay great stay, went seahawk game aweso...       5"
      ]
     },
     "execution_count": 12,
     "metadata": {},
     "output_type": "execute_result"
    }
   ],
   "source": [
    "td.head()"
   ]
  },
  {
   "cell_type": "code",
   "execution_count": 13,
   "id": "ce0a9a11",
   "metadata": {},
   "outputs": [],
   "source": [
    "td=td.drop(['Rating'],axis=1)"
   ]
  },
  {
   "cell_type": "code",
   "execution_count": 14,
   "id": "f3115d13",
   "metadata": {},
   "outputs": [
    {
     "data": {
      "text/html": [
       "<div>\n",
       "<style scoped>\n",
       "    .dataframe tbody tr th:only-of-type {\n",
       "        vertical-align: middle;\n",
       "    }\n",
       "\n",
       "    .dataframe tbody tr th {\n",
       "        vertical-align: top;\n",
       "    }\n",
       "\n",
       "    .dataframe thead th {\n",
       "        text-align: right;\n",
       "    }\n",
       "</style>\n",
       "<table border=\"1\" class=\"dataframe\">\n",
       "  <thead>\n",
       "    <tr style=\"text-align: right;\">\n",
       "      <th></th>\n",
       "      <th>Review</th>\n",
       "    </tr>\n",
       "  </thead>\n",
       "  <tbody>\n",
       "    <tr>\n",
       "      <th>0</th>\n",
       "      <td>nice hotel expensive parking got good deal sta...</td>\n",
       "    </tr>\n",
       "    <tr>\n",
       "      <th>1</th>\n",
       "      <td>ok nothing special charge diamond member hilto...</td>\n",
       "    </tr>\n",
       "    <tr>\n",
       "      <th>2</th>\n",
       "      <td>nice rooms not 4* experience hotel monaco seat...</td>\n",
       "    </tr>\n",
       "    <tr>\n",
       "      <th>3</th>\n",
       "      <td>unique, great stay, wonderful time hotel monac...</td>\n",
       "    </tr>\n",
       "    <tr>\n",
       "      <th>4</th>\n",
       "      <td>great stay great stay, went seahawk game aweso...</td>\n",
       "    </tr>\n",
       "  </tbody>\n",
       "</table>\n",
       "</div>"
      ],
      "text/plain": [
       "                                              Review\n",
       "0  nice hotel expensive parking got good deal sta...\n",
       "1  ok nothing special charge diamond member hilto...\n",
       "2  nice rooms not 4* experience hotel monaco seat...\n",
       "3  unique, great stay, wonderful time hotel monac...\n",
       "4  great stay great stay, went seahawk game aweso..."
      ]
     },
     "execution_count": 14,
     "metadata": {},
     "output_type": "execute_result"
    }
   ],
   "source": [
    "td.head()"
   ]
  },
  {
   "cell_type": "code",
   "execution_count": 15,
   "id": "9e623674",
   "metadata": {},
   "outputs": [],
   "source": [
    "score = []\n",
    "\n",
    "for i in range(0,td.shape[0]):\n",
    "    op = sent.polarity_scores(td.Review[i])\n",
    "    score.append(op['compound'])"
   ]
  },
  {
   "cell_type": "code",
   "execution_count": 18,
   "id": "5d6b0ee1",
   "metadata": {},
   "outputs": [
    {
     "data": {
      "text/html": [
       "<div>\n",
       "<style scoped>\n",
       "    .dataframe tbody tr th:only-of-type {\n",
       "        vertical-align: middle;\n",
       "    }\n",
       "\n",
       "    .dataframe tbody tr th {\n",
       "        vertical-align: top;\n",
       "    }\n",
       "\n",
       "    .dataframe thead th {\n",
       "        text-align: right;\n",
       "    }\n",
       "</style>\n",
       "<table border=\"1\" class=\"dataframe\">\n",
       "  <thead>\n",
       "    <tr style=\"text-align: right;\">\n",
       "      <th></th>\n",
       "      <th>0</th>\n",
       "    </tr>\n",
       "  </thead>\n",
       "  <tbody>\n",
       "    <tr>\n",
       "      <th>count</th>\n",
       "      <td>20491.000000</td>\n",
       "    </tr>\n",
       "    <tr>\n",
       "      <th>mean</th>\n",
       "      <td>0.803430</td>\n",
       "    </tr>\n",
       "    <tr>\n",
       "      <th>std</th>\n",
       "      <td>0.455671</td>\n",
       "    </tr>\n",
       "    <tr>\n",
       "      <th>min</th>\n",
       "      <td>-0.997400</td>\n",
       "    </tr>\n",
       "    <tr>\n",
       "      <th>25%</th>\n",
       "      <td>0.918400</td>\n",
       "    </tr>\n",
       "    <tr>\n",
       "      <th>50%</th>\n",
       "      <td>0.973800</td>\n",
       "    </tr>\n",
       "    <tr>\n",
       "      <th>75%</th>\n",
       "      <td>0.988800</td>\n",
       "    </tr>\n",
       "    <tr>\n",
       "      <th>max</th>\n",
       "      <td>0.999900</td>\n",
       "    </tr>\n",
       "  </tbody>\n",
       "</table>\n",
       "</div>"
      ],
      "text/plain": [
       "                  0\n",
       "count  20491.000000\n",
       "mean       0.803430\n",
       "std        0.455671\n",
       "min       -0.997400\n",
       "25%        0.918400\n",
       "50%        0.973800\n",
       "75%        0.988800\n",
       "max        0.999900"
      ]
     },
     "execution_count": 18,
     "metadata": {},
     "output_type": "execute_result"
    }
   ],
   "source": [
    "pd.DataFrame(score).describe()"
   ]
  },
  {
   "cell_type": "code",
   "execution_count": 19,
   "id": "febc05c3",
   "metadata": {},
   "outputs": [],
   "source": [
    "am=pd.read_csv(\"D:\\Imarticus Learning\\DATASETS\\AmazonFoodReviews.csv\")"
   ]
  },
  {
   "cell_type": "code",
   "execution_count": 20,
   "id": "f56952d3",
   "metadata": {},
   "outputs": [
    {
     "data": {
      "text/html": [
       "<div>\n",
       "<style scoped>\n",
       "    .dataframe tbody tr th:only-of-type {\n",
       "        vertical-align: middle;\n",
       "    }\n",
       "\n",
       "    .dataframe tbody tr th {\n",
       "        vertical-align: top;\n",
       "    }\n",
       "\n",
       "    .dataframe thead th {\n",
       "        text-align: right;\n",
       "    }\n",
       "</style>\n",
       "<table border=\"1\" class=\"dataframe\">\n",
       "  <thead>\n",
       "    <tr style=\"text-align: right;\">\n",
       "      <th></th>\n",
       "      <th>Id</th>\n",
       "      <th>ProductId</th>\n",
       "      <th>UserId</th>\n",
       "      <th>ProfileName</th>\n",
       "      <th>HelpfulnessNumerator</th>\n",
       "      <th>HelpfulnessDenominator</th>\n",
       "      <th>Score</th>\n",
       "      <th>Time</th>\n",
       "      <th>Summary</th>\n",
       "      <th>Text</th>\n",
       "    </tr>\n",
       "  </thead>\n",
       "  <tbody>\n",
       "    <tr>\n",
       "      <th>0</th>\n",
       "      <td>1</td>\n",
       "      <td>B001E4KFG0</td>\n",
       "      <td>A3SGXH7AUHU8GW</td>\n",
       "      <td>delmartian</td>\n",
       "      <td>1</td>\n",
       "      <td>1</td>\n",
       "      <td>5</td>\n",
       "      <td>1303862400</td>\n",
       "      <td>Good Quality Dog Food</td>\n",
       "      <td>I have bought several of the Vitality canned d...</td>\n",
       "    </tr>\n",
       "    <tr>\n",
       "      <th>1</th>\n",
       "      <td>2</td>\n",
       "      <td>B00813GRG4</td>\n",
       "      <td>A1D87F6ZCVE5NK</td>\n",
       "      <td>dll pa</td>\n",
       "      <td>0</td>\n",
       "      <td>0</td>\n",
       "      <td>1</td>\n",
       "      <td>1346976000</td>\n",
       "      <td>Not as Advertised</td>\n",
       "      <td>Product arrived labeled as Jumbo Salted Peanut...</td>\n",
       "    </tr>\n",
       "    <tr>\n",
       "      <th>2</th>\n",
       "      <td>3</td>\n",
       "      <td>B000LQOCH0</td>\n",
       "      <td>ABXLMWJIXXAIN</td>\n",
       "      <td>Natalia Corres \"Natalia Corres\"</td>\n",
       "      <td>1</td>\n",
       "      <td>1</td>\n",
       "      <td>4</td>\n",
       "      <td>1219017600</td>\n",
       "      <td>\"Delight\" says it all</td>\n",
       "      <td>This is a confection that has been around a fe...</td>\n",
       "    </tr>\n",
       "    <tr>\n",
       "      <th>3</th>\n",
       "      <td>4</td>\n",
       "      <td>B000UA0QIQ</td>\n",
       "      <td>A395BORC6FGVXV</td>\n",
       "      <td>Karl</td>\n",
       "      <td>3</td>\n",
       "      <td>3</td>\n",
       "      <td>2</td>\n",
       "      <td>1307923200</td>\n",
       "      <td>Cough Medicine</td>\n",
       "      <td>If you are looking for the secret ingredient i...</td>\n",
       "    </tr>\n",
       "    <tr>\n",
       "      <th>4</th>\n",
       "      <td>5</td>\n",
       "      <td>B006K2ZZ7K</td>\n",
       "      <td>A1UQRSCLF8GW1T</td>\n",
       "      <td>Michael D. Bigham \"M. Wassir\"</td>\n",
       "      <td>0</td>\n",
       "      <td>0</td>\n",
       "      <td>5</td>\n",
       "      <td>1350777600</td>\n",
       "      <td>Great taffy</td>\n",
       "      <td>Great taffy at a great price.  There was a wid...</td>\n",
       "    </tr>\n",
       "  </tbody>\n",
       "</table>\n",
       "</div>"
      ],
      "text/plain": [
       "   Id   ProductId          UserId                      ProfileName  \\\n",
       "0   1  B001E4KFG0  A3SGXH7AUHU8GW                       delmartian   \n",
       "1   2  B00813GRG4  A1D87F6ZCVE5NK                           dll pa   \n",
       "2   3  B000LQOCH0   ABXLMWJIXXAIN  Natalia Corres \"Natalia Corres\"   \n",
       "3   4  B000UA0QIQ  A395BORC6FGVXV                             Karl   \n",
       "4   5  B006K2ZZ7K  A1UQRSCLF8GW1T    Michael D. Bigham \"M. Wassir\"   \n",
       "\n",
       "   HelpfulnessNumerator  HelpfulnessDenominator  Score        Time  \\\n",
       "0                     1                       1      5  1303862400   \n",
       "1                     0                       0      1  1346976000   \n",
       "2                     1                       1      4  1219017600   \n",
       "3                     3                       3      2  1307923200   \n",
       "4                     0                       0      5  1350777600   \n",
       "\n",
       "                 Summary                                               Text  \n",
       "0  Good Quality Dog Food  I have bought several of the Vitality canned d...  \n",
       "1      Not as Advertised  Product arrived labeled as Jumbo Salted Peanut...  \n",
       "2  \"Delight\" says it all  This is a confection that has been around a fe...  \n",
       "3         Cough Medicine  If you are looking for the secret ingredient i...  \n",
       "4            Great taffy  Great taffy at a great price.  There was a wid...  "
      ]
     },
     "execution_count": 20,
     "metadata": {},
     "output_type": "execute_result"
    }
   ],
   "source": [
    "am.head()"
   ]
  },
  {
   "cell_type": "code",
   "execution_count": 22,
   "id": "c39fac9c",
   "metadata": {},
   "outputs": [],
   "source": [
    "am=am.iloc[:,[-1]]"
   ]
  },
  {
   "cell_type": "code",
   "execution_count": 23,
   "id": "8dda3e47",
   "metadata": {},
   "outputs": [
    {
     "data": {
      "text/html": [
       "<div>\n",
       "<style scoped>\n",
       "    .dataframe tbody tr th:only-of-type {\n",
       "        vertical-align: middle;\n",
       "    }\n",
       "\n",
       "    .dataframe tbody tr th {\n",
       "        vertical-align: top;\n",
       "    }\n",
       "\n",
       "    .dataframe thead th {\n",
       "        text-align: right;\n",
       "    }\n",
       "</style>\n",
       "<table border=\"1\" class=\"dataframe\">\n",
       "  <thead>\n",
       "    <tr style=\"text-align: right;\">\n",
       "      <th></th>\n",
       "      <th>Text</th>\n",
       "    </tr>\n",
       "  </thead>\n",
       "  <tbody>\n",
       "    <tr>\n",
       "      <th>0</th>\n",
       "      <td>I have bought several of the Vitality canned d...</td>\n",
       "    </tr>\n",
       "    <tr>\n",
       "      <th>1</th>\n",
       "      <td>Product arrived labeled as Jumbo Salted Peanut...</td>\n",
       "    </tr>\n",
       "    <tr>\n",
       "      <th>2</th>\n",
       "      <td>This is a confection that has been around a fe...</td>\n",
       "    </tr>\n",
       "    <tr>\n",
       "      <th>3</th>\n",
       "      <td>If you are looking for the secret ingredient i...</td>\n",
       "    </tr>\n",
       "    <tr>\n",
       "      <th>4</th>\n",
       "      <td>Great taffy at a great price.  There was a wid...</td>\n",
       "    </tr>\n",
       "    <tr>\n",
       "      <th>...</th>\n",
       "      <td>...</td>\n",
       "    </tr>\n",
       "    <tr>\n",
       "      <th>568449</th>\n",
       "      <td>Great for sesame chicken..this is a good if no...</td>\n",
       "    </tr>\n",
       "    <tr>\n",
       "      <th>568450</th>\n",
       "      <td>I'm disappointed with the flavor. The chocolat...</td>\n",
       "    </tr>\n",
       "    <tr>\n",
       "      <th>568451</th>\n",
       "      <td>These stars are small, so you can give 10-15 o...</td>\n",
       "    </tr>\n",
       "    <tr>\n",
       "      <th>568452</th>\n",
       "      <td>These are the BEST treats for training and rew...</td>\n",
       "    </tr>\n",
       "    <tr>\n",
       "      <th>568453</th>\n",
       "      <td>I am very satisfied ,product is as advertised,...</td>\n",
       "    </tr>\n",
       "  </tbody>\n",
       "</table>\n",
       "<p>568454 rows × 1 columns</p>\n",
       "</div>"
      ],
      "text/plain": [
       "                                                     Text\n",
       "0       I have bought several of the Vitality canned d...\n",
       "1       Product arrived labeled as Jumbo Salted Peanut...\n",
       "2       This is a confection that has been around a fe...\n",
       "3       If you are looking for the secret ingredient i...\n",
       "4       Great taffy at a great price.  There was a wid...\n",
       "...                                                   ...\n",
       "568449  Great for sesame chicken..this is a good if no...\n",
       "568450  I'm disappointed with the flavor. The chocolat...\n",
       "568451  These stars are small, so you can give 10-15 o...\n",
       "568452  These are the BEST treats for training and rew...\n",
       "568453  I am very satisfied ,product is as advertised,...\n",
       "\n",
       "[568454 rows x 1 columns]"
      ]
     },
     "execution_count": 23,
     "metadata": {},
     "output_type": "execute_result"
    }
   ],
   "source": [
    "am"
   ]
  },
  {
   "cell_type": "code",
   "execution_count": 25,
   "id": "f4d0e1d0",
   "metadata": {},
   "outputs": [],
   "source": [
    "score = []\n",
    "\n",
    "for i in range(0,am.shape[0]):\n",
    "    op = sent.polarity_scores(am.Text[i])\n",
    "    score.append(op['compound'])"
   ]
  },
  {
   "cell_type": "code",
   "execution_count": 26,
   "id": "03b825cd",
   "metadata": {},
   "outputs": [
    {
     "data": {
      "text/html": [
       "<div>\n",
       "<style scoped>\n",
       "    .dataframe tbody tr th:only-of-type {\n",
       "        vertical-align: middle;\n",
       "    }\n",
       "\n",
       "    .dataframe tbody tr th {\n",
       "        vertical-align: top;\n",
       "    }\n",
       "\n",
       "    .dataframe thead th {\n",
       "        text-align: right;\n",
       "    }\n",
       "</style>\n",
       "<table border=\"1\" class=\"dataframe\">\n",
       "  <thead>\n",
       "    <tr style=\"text-align: right;\">\n",
       "      <th></th>\n",
       "      <th>0</th>\n",
       "    </tr>\n",
       "  </thead>\n",
       "  <tbody>\n",
       "    <tr>\n",
       "      <th>count</th>\n",
       "      <td>568454.000000</td>\n",
       "    </tr>\n",
       "    <tr>\n",
       "      <th>mean</th>\n",
       "      <td>0.647316</td>\n",
       "    </tr>\n",
       "    <tr>\n",
       "      <th>std</th>\n",
       "      <td>0.466244</td>\n",
       "    </tr>\n",
       "    <tr>\n",
       "      <th>min</th>\n",
       "      <td>-0.999400</td>\n",
       "    </tr>\n",
       "    <tr>\n",
       "      <th>25%</th>\n",
       "      <td>0.576400</td>\n",
       "    </tr>\n",
       "    <tr>\n",
       "      <th>50%</th>\n",
       "      <td>0.854600</td>\n",
       "    </tr>\n",
       "    <tr>\n",
       "      <th>75%</th>\n",
       "      <td>0.942100</td>\n",
       "    </tr>\n",
       "    <tr>\n",
       "      <th>max</th>\n",
       "      <td>0.999900</td>\n",
       "    </tr>\n",
       "  </tbody>\n",
       "</table>\n",
       "</div>"
      ],
      "text/plain": [
       "                   0\n",
       "count  568454.000000\n",
       "mean        0.647316\n",
       "std         0.466244\n",
       "min        -0.999400\n",
       "25%         0.576400\n",
       "50%         0.854600\n",
       "75%         0.942100\n",
       "max         0.999900"
      ]
     },
     "execution_count": 26,
     "metadata": {},
     "output_type": "execute_result"
    }
   ],
   "source": [
    "pd.DataFrame(score).describe()"
   ]
  },
  {
   "cell_type": "code",
   "execution_count": null,
   "id": "e2620e6f",
   "metadata": {},
   "outputs": [],
   "source": []
  },
  {
   "cell_type": "code",
   "execution_count": 29,
   "id": "0b1a66bf",
   "metadata": {},
   "outputs": [],
   "source": [
    "from textblob import TextBlob"
   ]
  },
  {
   "cell_type": "code",
   "execution_count": 30,
   "id": "c25a4f72",
   "metadata": {},
   "outputs": [
    {
     "data": {
      "text/plain": [
       "Sentiment(polarity=0.38, subjectivity=0.5449999999999999)"
      ]
     },
     "execution_count": 30,
     "metadata": {},
     "output_type": "execute_result"
    }
   ],
   "source": [
    "blob= TextBlob(\" food served was very very tasty, i enjoyed eating it\")\n",
    "blob.sentiment"
   ]
  },
  {
   "cell_type": "code",
   "execution_count": 31,
   "id": "6c4f3aed",
   "metadata": {},
   "outputs": [
    {
     "data": {
      "text/plain": [
       "Sentiment(polarity=-0.43333333333333335, subjectivity=0.5333333333333333)"
      ]
     },
     "execution_count": 31,
     "metadata": {},
     "output_type": "execute_result"
    }
   ],
   "source": [
    "blob= TextBlob(\" journey was horrible and flight was late and log of noise are present\")\n",
    "blob.sentiment"
   ]
  },
  {
   "cell_type": "code",
   "execution_count": 32,
   "id": "3647e208",
   "metadata": {},
   "outputs": [],
   "source": [
    "td=pd.read_csv(\"D:\\Imarticus Learning\\DATASETS\\Trip_advisor_review.csv\")"
   ]
  },
  {
   "cell_type": "code",
   "execution_count": 33,
   "id": "9367ea3f",
   "metadata": {},
   "outputs": [],
   "source": [
    "td=td.drop(['Rating'],axis=1)"
   ]
  },
  {
   "cell_type": "code",
   "execution_count": 34,
   "id": "95e076fd",
   "metadata": {},
   "outputs": [
    {
     "data": {
      "text/html": [
       "<div>\n",
       "<style scoped>\n",
       "    .dataframe tbody tr th:only-of-type {\n",
       "        vertical-align: middle;\n",
       "    }\n",
       "\n",
       "    .dataframe tbody tr th {\n",
       "        vertical-align: top;\n",
       "    }\n",
       "\n",
       "    .dataframe thead th {\n",
       "        text-align: right;\n",
       "    }\n",
       "</style>\n",
       "<table border=\"1\" class=\"dataframe\">\n",
       "  <thead>\n",
       "    <tr style=\"text-align: right;\">\n",
       "      <th></th>\n",
       "      <th>Review</th>\n",
       "    </tr>\n",
       "  </thead>\n",
       "  <tbody>\n",
       "    <tr>\n",
       "      <th>0</th>\n",
       "      <td>nice hotel expensive parking got good deal sta...</td>\n",
       "    </tr>\n",
       "    <tr>\n",
       "      <th>1</th>\n",
       "      <td>ok nothing special charge diamond member hilto...</td>\n",
       "    </tr>\n",
       "    <tr>\n",
       "      <th>2</th>\n",
       "      <td>nice rooms not 4* experience hotel monaco seat...</td>\n",
       "    </tr>\n",
       "    <tr>\n",
       "      <th>3</th>\n",
       "      <td>unique, great stay, wonderful time hotel monac...</td>\n",
       "    </tr>\n",
       "    <tr>\n",
       "      <th>4</th>\n",
       "      <td>great stay great stay, went seahawk game aweso...</td>\n",
       "    </tr>\n",
       "    <tr>\n",
       "      <th>...</th>\n",
       "      <td>...</td>\n",
       "    </tr>\n",
       "    <tr>\n",
       "      <th>20486</th>\n",
       "      <td>best kept secret 3rd time staying charm, not 5...</td>\n",
       "    </tr>\n",
       "    <tr>\n",
       "      <th>20487</th>\n",
       "      <td>great location price view hotel great quick pl...</td>\n",
       "    </tr>\n",
       "    <tr>\n",
       "      <th>20488</th>\n",
       "      <td>ok just looks nice modern outside, desk staff ...</td>\n",
       "    </tr>\n",
       "    <tr>\n",
       "      <th>20489</th>\n",
       "      <td>hotel theft ruined vacation hotel opened sept ...</td>\n",
       "    </tr>\n",
       "    <tr>\n",
       "      <th>20490</th>\n",
       "      <td>people talking, ca n't believe excellent ratin...</td>\n",
       "    </tr>\n",
       "  </tbody>\n",
       "</table>\n",
       "<p>20491 rows × 1 columns</p>\n",
       "</div>"
      ],
      "text/plain": [
       "                                                  Review\n",
       "0      nice hotel expensive parking got good deal sta...\n",
       "1      ok nothing special charge diamond member hilto...\n",
       "2      nice rooms not 4* experience hotel monaco seat...\n",
       "3      unique, great stay, wonderful time hotel monac...\n",
       "4      great stay great stay, went seahawk game aweso...\n",
       "...                                                  ...\n",
       "20486  best kept secret 3rd time staying charm, not 5...\n",
       "20487  great location price view hotel great quick pl...\n",
       "20488  ok just looks nice modern outside, desk staff ...\n",
       "20489  hotel theft ruined vacation hotel opened sept ...\n",
       "20490  people talking, ca n't believe excellent ratin...\n",
       "\n",
       "[20491 rows x 1 columns]"
      ]
     },
     "execution_count": 34,
     "metadata": {},
     "output_type": "execute_result"
    }
   ],
   "source": [
    "td"
   ]
  },
  {
   "cell_type": "code",
   "execution_count": 42,
   "id": "c6061e77",
   "metadata": {},
   "outputs": [],
   "source": [
    "score = []\n",
    "\n",
    "for i in range(0,td.shape[0]):\n",
    "    blob=TextBlob(td.Review[i])\n",
    "    score.append(blob.sentiment[0])"
   ]
  },
  {
   "cell_type": "code",
   "execution_count": 43,
   "id": "f1e870fb",
   "metadata": {},
   "outputs": [
    {
     "data": {
      "text/plain": [
       "count    20491.000000\n",
       "mean         0.274278\n",
       "std          0.181452\n",
       "min         -1.000000\n",
       "25%          0.177426\n",
       "50%          0.280371\n",
       "75%          0.384903\n",
       "max          1.000000\n",
       "dtype: float64"
      ]
     },
     "execution_count": 43,
     "metadata": {},
     "output_type": "execute_result"
    }
   ],
   "source": [
    "pd.Series(score).describe()"
   ]
  },
  {
   "cell_type": "code",
   "execution_count": 44,
   "id": "231b4114",
   "metadata": {},
   "outputs": [],
   "source": [
    "am=pd.read_csv(\"D:\\Imarticus Learning\\DATASETS\\AmazonFoodReviews.csv\")"
   ]
  },
  {
   "cell_type": "code",
   "execution_count": 45,
   "id": "f9d25f27",
   "metadata": {},
   "outputs": [],
   "source": [
    "am=am.iloc[:,[-1]]"
   ]
  },
  {
   "cell_type": "code",
   "execution_count": 47,
   "id": "ea87dd97",
   "metadata": {},
   "outputs": [],
   "source": [
    "score = []\n",
    "\n",
    "for i in range(0,am.shape[0]):\n",
    "    blob=TextBlob(am.Text[i])\n",
    "    score.append(blob.sentiment[0])"
   ]
  },
  {
   "cell_type": "code",
   "execution_count": 48,
   "id": "d9f9a150",
   "metadata": {},
   "outputs": [
    {
     "data": {
      "text/plain": [
       "count    568454.000000\n",
       "mean          0.241593\n",
       "std           0.224809\n",
       "min          -1.000000\n",
       "25%           0.106250\n",
       "50%           0.231818\n",
       "75%           0.371861\n",
       "max           1.000000\n",
       "dtype: float64"
      ]
     },
     "execution_count": 48,
     "metadata": {},
     "output_type": "execute_result"
    }
   ],
   "source": [
    "pd.Series(score).describe()"
   ]
  },
  {
   "cell_type": "code",
   "execution_count": 53,
   "id": "2cfcccd5",
   "metadata": {},
   "outputs": [],
   "source": [
    "import nltk"
   ]
  },
  {
   "cell_type": "code",
   "execution_count": 54,
   "id": "8bfb88b5",
   "metadata": {},
   "outputs": [],
   "source": [
    "from nltk.stem.snowball import SnowballStemmer"
   ]
  },
  {
   "cell_type": "code",
   "execution_count": 55,
   "id": "5cc04991",
   "metadata": {},
   "outputs": [],
   "source": [
    "stemmer = SnowballStemmer(language=\"english\")"
   ]
  },
  {
   "cell_type": "code",
   "execution_count": 66,
   "id": "880c2afc",
   "metadata": {},
   "outputs": [],
   "source": [
    "word_list =['swim','swimmer','swimming','matches','mens','laughing','cars','loving','humans','indians','writing','playing','player','emotions','expressing','being','rotation']"
   ]
  },
  {
   "cell_type": "code",
   "execution_count": 67,
   "id": "24648085",
   "metadata": {},
   "outputs": [
    {
     "name": "stdout",
     "output_type": "stream",
     "text": [
      "swim        its stemming is  -->  swim\n",
      "swimmer        its stemming is  -->  swimmer\n",
      "swimming        its stemming is  -->  swim\n",
      "matches        its stemming is  -->  match\n",
      "mens        its stemming is  -->  men\n",
      "laughing        its stemming is  -->  laugh\n",
      "cars        its stemming is  -->  car\n",
      "loving        its stemming is  -->  love\n",
      "humans        its stemming is  -->  human\n",
      "indians        its stemming is  -->  indian\n",
      "writing        its stemming is  -->  write\n",
      "playing        its stemming is  -->  play\n",
      "player        its stemming is  -->  player\n",
      "emotions        its stemming is  -->  emot\n",
      "expressing        its stemming is  -->  express\n",
      "being        its stemming is  -->  be\n",
      "rotation        its stemming is  -->  rotat\n"
     ]
    }
   ],
   "source": [
    "for word in word_list:\n",
    "    print(word, \"       its stemming is  --> \",stemmer.stem(word))"
   ]
  },
  {
   "cell_type": "code",
   "execution_count": 69,
   "id": "28300020",
   "metadata": {},
   "outputs": [
    {
     "name": "stderr",
     "output_type": "stream",
     "text": [
      "[nltk_data] Downloading package punkt to\n",
      "[nltk_data]     C:\\Users\\shubh\\AppData\\Roaming\\nltk_data...\n",
      "[nltk_data]   Unzipping tokenizers\\punkt.zip.\n"
     ]
    },
    {
     "data": {
      "text/plain": [
       "True"
      ]
     },
     "execution_count": 69,
     "metadata": {},
     "output_type": "execute_result"
    }
   ],
   "source": [
    "nltk.download('punkt')"
   ]
  },
  {
   "cell_type": "code",
   "execution_count": 71,
   "id": "98445e16",
   "metadata": {},
   "outputs": [
    {
     "name": "stderr",
     "output_type": "stream",
     "text": [
      "[nltk_data] Downloading package averaged_perceptron_tagger to\n",
      "[nltk_data]     C:\\Users\\shubh\\AppData\\Roaming\\nltk_data...\n",
      "[nltk_data]   Unzipping taggers\\averaged_perceptron_tagger.zip.\n"
     ]
    },
    {
     "data": {
      "text/plain": [
       "True"
      ]
     },
     "execution_count": 71,
     "metadata": {},
     "output_type": "execute_result"
    }
   ],
   "source": [
    " nltk.download('averaged_perceptron_tagger')"
   ]
  },
  {
   "cell_type": "code",
   "execution_count": 72,
   "id": "09d5d649",
   "metadata": {},
   "outputs": [],
   "source": [
    "text=\"climate change and global warming are the challenges which all the nations are facing\"\n",
    "tokenized =nltk.word_tokenize(text)\n",
    "pos_tagged=nltk.pos_tag(tokenized)# pos is part of speech(noun, adverb, verb)"
   ]
  },
  {
   "cell_type": "code",
   "execution_count": 73,
   "id": "b417e630",
   "metadata": {},
   "outputs": [
    {
     "data": {
      "text/plain": [
       "['climate',\n",
       " 'change',\n",
       " 'and',\n",
       " 'global',\n",
       " 'warming',\n",
       " 'are',\n",
       " 'the',\n",
       " 'challenges',\n",
       " 'which',\n",
       " 'all',\n",
       " 'the',\n",
       " 'nations',\n",
       " 'are',\n",
       " 'facing']"
      ]
     },
     "execution_count": 73,
     "metadata": {},
     "output_type": "execute_result"
    }
   ],
   "source": [
    "tokenized"
   ]
  },
  {
   "cell_type": "code",
   "execution_count": 75,
   "id": "5429b42e",
   "metadata": {},
   "outputs": [
    {
     "data": {
      "text/plain": [
       "[('climate', 'NN'),\n",
       " ('change', 'NN'),\n",
       " ('and', 'CC'),\n",
       " ('global', 'JJ'),\n",
       " ('warming', 'NN'),\n",
       " ('are', 'VBP'),\n",
       " ('the', 'DT'),\n",
       " ('challenges', 'NNS'),\n",
       " ('which', 'WDT'),\n",
       " ('all', 'PDT'),\n",
       " ('the', 'DT'),\n",
       " ('nations', 'NNS'),\n",
       " ('are', 'VBP'),\n",
       " ('facing', 'VBG')]"
      ]
     },
     "execution_count": 75,
     "metadata": {},
     "output_type": "execute_result"
    }
   ],
   "source": [
    "pos_tagged"
   ]
  },
  {
   "cell_type": "code",
   "execution_count": 79,
   "id": "78884ec5",
   "metadata": {},
   "outputs": [
    {
     "name": "stderr",
     "output_type": "stream",
     "text": [
      "[nltk_data] Downloading package maxent_ne_chunker to\n",
      "[nltk_data]     C:\\Users\\shubh\\AppData\\Roaming\\nltk_data...\n",
      "[nltk_data]   Unzipping chunkers\\maxent_ne_chunker.zip.\n"
     ]
    },
    {
     "data": {
      "text/plain": [
       "True"
      ]
     },
     "execution_count": 79,
     "metadata": {},
     "output_type": "execute_result"
    }
   ],
   "source": [
    "# NER :_ name entity recognition\n",
    "nltk.download('maxent_ne_chunker')"
   ]
  },
  {
   "cell_type": "code",
   "execution_count": 96,
   "id": "9263c54b",
   "metadata": {},
   "outputs": [
    {
     "name": "stdout",
     "output_type": "stream",
     "text": [
      "(GPE Mumbai/NNP)\n",
      "(GPE India/NNP)\n"
     ]
    }
   ],
   "source": [
    "text=\"state of Mumbai is in central part of India.\"\n",
    "\n",
    "tokenized=nltk.word_tokenize(text)\n",
    "pos_tagged=nltk.pos_tag(tokenized)\n",
    "chunks=nltk.ne_chunk(pos_tagged)\n",
    "for chunk in chunks:\n",
    "    if hasattr(chunk,'label'):\n",
    "        print(chunk)"
   ]
  },
  {
   "cell_type": "code",
   "execution_count": 92,
   "id": "24c01c46",
   "metadata": {},
   "outputs": [
    {
     "name": "stdout",
     "output_type": "stream",
     "text": [
      "(ORGANIZATION APJ/NNP)\n",
      "(PERSON Abdul/NNP Kalam/NNP)\n"
     ]
    }
   ],
   "source": [
    "text=\"APJ Abdul Kalam is my role model\"\n",
    "\n",
    "tokenized=nltk.word_tokenize(text)\n",
    "pos_tagged=nltk.pos_tag(tokenized)\n",
    "chunks=nltk.ne_chunk(pos_tagged)\n",
    "for chunk in chunks:\n",
    "    if hasattr(chunk,'label'):\n",
    "        print(chunk)"
   ]
  },
  {
   "cell_type": "code",
   "execution_count": 93,
   "id": "2dfcb859",
   "metadata": {},
   "outputs": [
    {
     "name": "stdout",
     "output_type": "stream",
     "text": [
      "(PERSON Rohit/NNP)\n",
      "(PERSON Sharma/NNP)\n",
      "(GPE Indian/JJ)\n"
     ]
    }
   ],
   "source": [
    "text=\"Rohit Sharma is Caption of Indian Cricket Team.\"\n",
    "\n",
    "tokenized=nltk.word_tokenize(text)\n",
    "pos_tagged=nltk.pos_tag(tokenized)\n",
    "chunks=nltk.ne_chunk(pos_tagged)\n",
    "for chunk in chunks:\n",
    "    if hasattr(chunk,'label'):\n",
    "        print(chunk)"
   ]
  },
  {
   "cell_type": "code",
   "execution_count": 94,
   "id": "7378f747",
   "metadata": {},
   "outputs": [
    {
     "name": "stdout",
     "output_type": "stream",
     "text": [
      "(GPE Asia/NNP)\n"
     ]
    }
   ],
   "source": [
    "text=\"Asia's biggest economies are competing to gain an edge in the global nuclear industry..\"\n",
    "\n",
    "tokenized=nltk.word_tokenize(text)\n",
    "pos_tagged=nltk.pos_tag(tokenized)\n",
    "chunks=nltk.ne_chunk(pos_tagged)\n",
    "for chunk in chunks:\n",
    "    if hasattr(chunk,'label'):\n",
    "        print(chunk)"
   ]
  },
  {
   "cell_type": "code",
   "execution_count": 95,
   "id": "1c1116c0",
   "metadata": {},
   "outputs": [
    {
     "name": "stdout",
     "output_type": "stream",
     "text": [
      "(GPE Singapore/NNP)\n"
     ]
    }
   ],
   "source": [
    "text=\"Singapore is confident that it will not be unduly affected by the global banking crisis.\"\n",
    "\n",
    "tokenized=nltk.word_tokenize(text)\n",
    "pos_tagged=nltk.pos_tag(tokenized)\n",
    "chunks=nltk.ne_chunk(pos_tagged)\n",
    "for chunk in chunks:\n",
    "    if hasattr(chunk,'label'):\n",
    "        print(chunk)"
   ]
  },
  {
   "cell_type": "code",
   "execution_count": 106,
   "id": "7935a869",
   "metadata": {},
   "outputs": [],
   "source": [
    "# pip install stanza"
   ]
  },
  {
   "cell_type": "code",
   "execution_count": 103,
   "id": "1baae038",
   "metadata": {},
   "outputs": [
    {
     "data": {
      "application/vnd.jupyter.widget-view+json": {
       "model_id": "7b59e0bd98354ccc9e63da7193cc630a",
       "version_major": 2,
       "version_minor": 0
      },
      "text/plain": [
       "Downloading https://raw.githubusercontent.com/stanfordnlp/stanza-resources/main/resources_1.9.0.json:   0%|   …"
      ]
     },
     "metadata": {},
     "output_type": "display_data"
    },
    {
     "name": "stderr",
     "output_type": "stream",
     "text": [
      "2024-11-15 11:38:45 INFO: Downloaded file to C:\\Users\\shubh\\stanza_resources\\resources.json\n",
      "2024-11-15 11:38:45 INFO: Downloading default packages for language: en (English) ...\n",
      "2024-11-15 11:38:47 INFO: File exists: C:\\Users\\shubh\\stanza_resources\\en\\default.zip\n",
      "2024-11-15 11:38:50 INFO: Finished downloading models and saved to C:\\Users\\shubh\\stanza_resources\n",
      "2024-11-15 11:38:50 INFO: Checking for updates to resources.json in case models have been updated.  Note: this behavior can be turned off with download_method=None or download_method=DownloadMethod.REUSE_RESOURCES\n"
     ]
    },
    {
     "data": {
      "application/vnd.jupyter.widget-view+json": {
       "model_id": "46b3df6bec42476a9206889a3abcbf5c",
       "version_major": 2,
       "version_minor": 0
      },
      "text/plain": [
       "Downloading https://raw.githubusercontent.com/stanfordnlp/stanza-resources/main/resources_1.9.0.json:   0%|   …"
      ]
     },
     "metadata": {},
     "output_type": "display_data"
    },
    {
     "name": "stderr",
     "output_type": "stream",
     "text": [
      "2024-11-15 11:38:50 INFO: Downloaded file to C:\\Users\\shubh\\stanza_resources\\resources.json\n",
      "2024-11-15 11:38:51 WARNING: Language en package default expects mwt, which has been added\n",
      "2024-11-15 11:38:51 INFO: Loading these models for language: en (English):\n",
      "=========================================\n",
      "| Processor | Package                   |\n",
      "-----------------------------------------\n",
      "| tokenize  | combined                  |\n",
      "| mwt       | combined                  |\n",
      "| ner       | ontonotes-ww-multi_charlm |\n",
      "=========================================\n",
      "\n",
      "2024-11-15 11:38:51 INFO: Using device: cpu\n",
      "2024-11-15 11:38:51 INFO: Loading: tokenize\n",
      "2024-11-15 11:38:51 INFO: Loading: mwt\n",
      "2024-11-15 11:38:51 INFO: Loading: ner\n",
      "2024-11-15 11:38:52 INFO: Done loading processors!\n"
     ]
    }
   ],
   "source": [
    "import stanza\n",
    "stanza.download('en')\n",
    "nlp=stanza.Pipeline(lang='en',processors='tokenize,ner')"
   ]
  },
  {
   "cell_type": "code",
   "execution_count": 104,
   "id": "3e7f525b",
   "metadata": {},
   "outputs": [
    {
     "name": "stdout",
     "output_type": "stream",
     "text": [
      "India  ||  GPE\n",
      "around 5 trillion USD  ||  MONEY\n"
     ]
    }
   ],
   "source": [
    "doc=nlp(\"GDP of India is around 5 trillion USD\")\n",
    "for ent in doc.entities:\n",
    "    print(ent.text, \" || \",ent.type)"
   ]
  },
  {
   "cell_type": "code",
   "execution_count": 105,
   "id": "045e293e",
   "metadata": {},
   "outputs": [
    {
     "name": "stdout",
     "output_type": "stream",
     "text": [
      "Rohit Sharma  ||  PERSON\n",
      "Indian Cricket Team  ||  ORG\n"
     ]
    }
   ],
   "source": [
    "doc=nlp(\"Rohit Sharma is captain of Indian Cricket Team\")\n",
    "for ent in doc.entities:\n",
    "    print(ent.text, \" || \",ent.type)"
   ]
  },
  {
   "cell_type": "code",
   "execution_count": 108,
   "id": "d845c7d9",
   "metadata": {},
   "outputs": [
    {
     "name": "stdout",
     "output_type": "stream",
     "text": [
      "Asia's  ||  ORG\n"
     ]
    }
   ],
   "source": [
    "doc=nlp(\"Asia's biggest Economies are competing to gain an edge in the Global Nuclear Industry\")\n",
    "for ent in doc.entities:\n",
    "    print(ent.text, \" || \",ent.type)"
   ]
  },
  {
   "cell_type": "code",
   "execution_count": 110,
   "id": "3044547a",
   "metadata": {},
   "outputs": [
    {
     "name": "stdout",
     "output_type": "stream",
     "text": [
      "Modi  ||  PERSON\n",
      "Pune  ||  GPE\n"
     ]
    }
   ],
   "source": [
    "doc=nlp(\"PM Modi was came Pune because of Election\")\n",
    "for ent in doc.entities:\n",
    "    print(ent.text, \" || \",ent.type)"
   ]
  },
  {
   "cell_type": "code",
   "execution_count": 115,
   "id": "4ea7013c",
   "metadata": {},
   "outputs": [
    {
     "name": "stdout",
     "output_type": "stream",
     "text": [
      "Pranjal Mishra  ||  PERSON\n",
      "Data Science  ||  ORG\n",
      "My Favorite Teacher  ||  WORK_OF_ART\n"
     ]
    }
   ],
   "source": [
    "doc=nlp(\"Mr.Pranjal Mishra have lot of knowledge about Data Science and He is My Favorite Teacher. I want to become his Favourite Student also I want choclate from them\")\n",
    "for ent in doc.entities:\n",
    "    print(ent.text, \" || \",ent.type)"
   ]
  },
  {
   "cell_type": "code",
   "execution_count": null,
   "id": "c8d0be19",
   "metadata": {},
   "outputs": [],
   "source": [
    "# vader , test blob -->(sentiment analysis) pretrained model \n",
    "# stemming --> nltk \n",
    "# pos --> nltk\n",
    "# ner --> stanza"
   ]
  },
  {
   "cell_type": "code",
   "execution_count": null,
   "id": "6b69eb17",
   "metadata": {},
   "outputs": [],
   "source": [
    "# model building using TDM"
   ]
  }
 ],
 "metadata": {
  "kernelspec": {
   "display_name": "Python 3 (ipykernel)",
   "language": "python",
   "name": "python3"
  },
  "language_info": {
   "codemirror_mode": {
    "name": "ipython",
    "version": 3
   },
   "file_extension": ".py",
   "mimetype": "text/x-python",
   "name": "python",
   "nbconvert_exporter": "python",
   "pygments_lexer": "ipython3",
   "version": "3.10.9"
  }
 },
 "nbformat": 4,
 "nbformat_minor": 5
}
